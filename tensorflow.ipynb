{
  "nbformat": 4,
  "nbformat_minor": 0,
  "metadata": {
    "colab": {
      "provenance": [],
      "authorship_tag": "ABX9TyOGq2QlX44qbKjg2dGuWhgA",
      "include_colab_link": true
    },
    "kernelspec": {
      "name": "python3",
      "display_name": "Python 3"
    },
    "language_info": {
      "name": "python"
    }
  },
  "cells": [
    {
      "cell_type": "markdown",
      "metadata": {
        "id": "view-in-github",
        "colab_type": "text"
      },
      "source": [
        "<a href=\"https://colab.research.google.com/github/blackStormktl/conversor-temperatura/blob/main/tensorflow.ipynb\" target=\"_parent\"><img src=\"https://colab.research.google.com/assets/colab-badge.svg\" alt=\"Open In Colab\"/></a>"
      ]
    },
    {
      "cell_type": "code",
      "execution_count": 5,
      "metadata": {
        "id": "Km5FM3tma9Y2"
      },
      "outputs": [],
      "source": [
        "import tensorflow as tf\n",
        "import numpy as np"
      ]
    },
    {
      "cell_type": "markdown",
      "source": [
        "Entradas e Saídas"
      ],
      "metadata": {
        "id": "AnIBZW57bye_"
      }
    },
    {
      "cell_type": "code",
      "source": [
        "celsius = np.array([-40,-10,0,8,15,22,38], dtype=float)\n",
        "fahrenheit = np.array([-40,14,32,46.4,59,71.6,100], dtype=float)"
      ],
      "metadata": {
        "id": "3gRsBKwJb5si"
      },
      "execution_count": 7,
      "outputs": []
    },
    {
      "cell_type": "markdown",
      "source": [
        "criação do Layer e do Modelo"
      ],
      "metadata": {
        "id": "Y5BBblwJcZEn"
      }
    },
    {
      "cell_type": "code",
      "source": [
        "l1= tf.keras.layers.Dense(units=1 , input_shape=[1])\n",
        "model = tf.keras.Sequential([l1])\n",
        "model.compile(loss='mean_squared_error',optimizer=tf.keras.optimizers.Adam(0.1))"
      ],
      "metadata": {
        "id": "lbjsGX8wcc35"
      },
      "execution_count": 9,
      "outputs": []
    },
    {
      "cell_type": "markdown",
      "source": [
        "treinamento do modelo"
      ],
      "metadata": {
        "id": "ElTbrooid0Wl"
      }
    },
    {
      "cell_type": "code",
      "source": [
        "history =  model.fit(celsius , fahrenheit, epochs=500, verbose=False)\n",
        "print(f'treinamento finalizado \\n valor resultados \\n: {history}')"
      ],
      "metadata": {
        "colab": {
          "base_uri": "https://localhost:8080/"
        },
        "id": "WO8Kor8cdx-d",
        "outputId": "e467a5a8-196e-4741-9985-d5492419df97"
      },
      "execution_count": 11,
      "outputs": [
        {
          "output_type": "stream",
          "name": "stdout",
          "text": [
            "treinamento finalizado \n",
            " valor resultados \n",
            ": <keras.src.callbacks.History object at 0x7ab2d1a4a350>\n"
          ]
        }
      ]
    },
    {
      "cell_type": "markdown",
      "source": [
        "Estatisticas do modelo"
      ],
      "metadata": {
        "id": "q5UD_Xycecpz"
      }
    },
    {
      "cell_type": "code",
      "source": [
        "import matplotlib.pyplot as plt\n",
        "plt.xlabel('Epoch Number')\n",
        "plt.ylabel('Loss Magnitude')\n",
        "plt.plot(history.history['loss'])\n"
      ],
      "metadata": {
        "colab": {
          "base_uri": "https://localhost:8080/",
          "height": 466
        },
        "id": "J-CgjQPYelaW",
        "outputId": "6ac6acfb-b833-46bf-ccee-dc4d29b523e3"
      },
      "execution_count": 12,
      "outputs": [
        {
          "output_type": "execute_result",
          "data": {
            "text/plain": [
              "[<matplotlib.lines.Line2D at 0x7ab2ccc24730>]"
            ]
          },
          "metadata": {},
          "execution_count": 12
        },
        {
          "output_type": "display_data",
          "data": {
            "text/plain": [
              "<Figure size 640x480 with 1 Axes>"
            ],
            "image/png": "[encoded data removed]"
          },
          "metadata": {}
        }
      ]
    },
    {
      "cell_type": "code",
      "source": [
        "print(model.predict([100]))"
      ],
      "metadata": {
        "colab": {
          "base_uri": "https://localhost:8080/"
        },
        "id": "1t4heSntgSQr",
        "outputId": "5d0cdc1f-ffc2-49ad-ce7c-bd4bc18554c2"
      },
      "execution_count": 22,
      "outputs": [
        {
          "output_type": "stream",
          "name": "stdout",
          "text": [
            "1/1 [==============================] - 0s 56ms/step\n",
            "[[211.19583]]\n"
          ]
        }
      ]
    },
    {
      "cell_type": "code",
      "source": [
        "print(\"valore que a ia utilizou foram :\\n{}\".format(l1.get_weights()))"
      ],
      "metadata": {
        "colab": {
          "base_uri": "https://localhost:8080/"
        },
        "id": "1H3_N7OmgimR",
        "outputId": "f3cb9484-f328-4fcd-e2b0-23dbc6f1617e"
      },
      "execution_count": 20,
      "outputs": [
        {
          "output_type": "stream",
          "name": "stdout",
          "text": [
            "valore que a ia utilizou foram :\n",
            "[array([[1.8186786]], dtype=float32), array([29.327969], dtype=float32)]\n"
          ]
        }
      ]
    }
  ]
}